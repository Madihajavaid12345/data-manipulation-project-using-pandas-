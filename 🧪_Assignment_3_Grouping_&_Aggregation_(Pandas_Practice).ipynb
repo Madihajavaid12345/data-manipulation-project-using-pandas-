{
  "nbformat": 4,
  "nbformat_minor": 0,
  "metadata": {
    "colab": {
      "provenance": [],
      "authorship_tag": "ABX9TyNepmvywdRGrwcEPikIeAS4",
      "include_colab_link": true
    },
    "kernelspec": {
      "name": "python3",
      "display_name": "Python 3"
    },
    "language_info": {
      "name": "python"
    }
  },
  "cells": [
    {
      "cell_type": "markdown",
      "metadata": {
        "id": "view-in-github",
        "colab_type": "text"
      },
      "source": [
        "<a href=\"https://colab.research.google.com/github/Madihajavaid12345/data-manipulation-project-using-pandas-/blob/main/%F0%9F%A7%AA_Assignment_3_Grouping_%26_Aggregation_(Pandas_Practice).ipynb\" target=\"_parent\"><img src=\"https://colab.research.google.com/assets/colab-badge.svg\" alt=\"Open In Colab\"/></a>"
      ]
    },
    {
      "cell_type": "markdown",
      "source": [
        "✅ Step 1: Create the DataFrame"
      ],
      "metadata": {
        "id": "nHvew78_m9rp"
      }
    },
    {
      "cell_type": "code",
      "execution_count": 3,
      "metadata": {
        "colab": {
          "base_uri": "https://localhost:8080/"
        },
        "id": "bW7M9rQ3mmsD",
        "outputId": "a589de2b-617d-43fd-8176-4d758dec4452"
      },
      "outputs": [
        {
          "output_type": "stream",
          "name": "stdout",
          "text": [
            "  Salesperson Region  Sales Month\n",
            "0         Ali  North  25000   Jan\n",
            "1        Sara  South  27000   Jan\n",
            "2         Ali  North  30000   Feb\n",
            "3        Zara   East  15000   Feb\n",
            "4        Sara  South  20000   Mar\n",
            "5        Zara   East  18000   Mar\n",
            "6         Ali   West  22000   Mar\n"
          ]
        }
      ],
      "source": [
        "import pandas as pd\n",
        "Data = {\n",
        "    'Salesperson': ['Ali', 'Sara', 'Ali', 'Zara', 'Sara', 'Zara', 'Ali'],\n",
        "    'Region': ['North', 'South', 'North', 'East', 'South', 'East', 'West'],\n",
        "    'Sales': [25000, 27000, 30000, 15000, 20000, 18000, 22000],\n",
        "    'Month': ['Jan', 'Jan', 'Feb', 'Feb', 'Mar', 'Mar', 'Mar']\n",
        "\n",
        "}\n",
        "df = pd.DataFrame(Data)\n",
        "print(df)"
      ]
    },
    {
      "cell_type": "markdown",
      "source": [
        "✅ Step 2: Group by Salesperson and Total Sales\n"
      ],
      "metadata": {
        "id": "lGu9f7r8nBYg"
      }
    },
    {
      "cell_type": "code",
      "source": [
        "Total_sales = df.groupby( 'Salesperson')['Sales'].sum()\n",
        "print(Total_sales)"
      ],
      "metadata": {
        "colab": {
          "base_uri": "https://localhost:8080/"
        },
        "id": "wjHSf6y1n2LA",
        "outputId": "69b6819d-8062-4495-c16b-f4a79850dbf2"
      },
      "execution_count": 4,
      "outputs": [
        {
          "output_type": "stream",
          "name": "stdout",
          "text": [
            "Salesperson\n",
            "Ali     77000\n",
            "Sara    47000\n",
            "Zara    33000\n",
            "Name: Sales, dtype: int64\n"
          ]
        }
      ]
    },
    {
      "cell_type": "markdown",
      "source": [
        "✅ Step 3: Group by Region (Average Sales)"
      ],
      "metadata": {
        "id": "jkM88VX-pXrw"
      }
    },
    {
      "cell_type": "code",
      "source": [
        "Average_Sales_Region = df.groupby('Region')['Sales'].mean()\n",
        "print(Average_Sales_Region)"
      ],
      "metadata": {
        "colab": {
          "base_uri": "https://localhost:8080/"
        },
        "id": "W0-AnToOpfQf",
        "outputId": "7b9028b0-6bc5-4fd8-fc80-7c15da78d16f"
      },
      "execution_count": 5,
      "outputs": [
        {
          "output_type": "stream",
          "name": "stdout",
          "text": [
            "Region\n",
            "East     16500.0\n",
            "North    27500.0\n",
            "South    23500.0\n",
            "West     22000.0\n",
            "Name: Sales, dtype: float64\n"
          ]
        }
      ]
    },
    {
      "cell_type": "markdown",
      "source": [
        "✅ Step 4: Group by Salesperson and Month\n"
      ],
      "metadata": {
        "id": "vCxNVR2_q58g"
      }
    },
    {
      "cell_type": "code",
      "source": [
        "monthly_sales = df.groupby(['Salesperson', 'Month'])['Sales'].sum()\n",
        "print(monthly_sales )"
      ],
      "metadata": {
        "colab": {
          "base_uri": "https://localhost:8080/"
        },
        "id": "xAhKkcNFq7yn",
        "outputId": "5ab52659-154d-4b1e-b6d0-3a3c3260c54d"
      },
      "execution_count": 6,
      "outputs": [
        {
          "output_type": "stream",
          "name": "stdout",
          "text": [
            "Salesperson  Month\n",
            "Ali          Feb      30000\n",
            "             Jan      25000\n",
            "             Mar      22000\n",
            "Sara         Jan      27000\n",
            "             Mar      20000\n",
            "Zara         Feb      15000\n",
            "             Mar      18000\n",
            "Name: Sales, dtype: int64\n"
          ]
        }
      ]
    },
    {
      "cell_type": "markdown",
      "source": [
        "✅ Step 5: Top Salesperson"
      ],
      "metadata": {
        "id": "u4PKtMjZMQwm"
      }
    },
    {
      "cell_type": "code",
      "source": [
        "top_salesperson = df.groupby('Salesperson')['Sales'].sum().idxmax()\n",
        "print(top_salesperson)"
      ],
      "metadata": {
        "colab": {
          "base_uri": "https://localhost:8080/"
        },
        "id": "A8VRLw5eMYrd",
        "outputId": "ad35208e-a92d-4550-d76f-e40416abfb65"
      },
      "execution_count": 7,
      "outputs": [
        {
          "output_type": "stream",
          "name": "stdout",
          "text": [
            "Ali\n"
          ]
        }
      ]
    },
    {
      "cell_type": "markdown",
      "source": [
        "Step 6: Filter Sales > 25000\n"
      ],
      "metadata": {
        "id": "6X6_5qrlOUFu"
      }
    },
    {
      "cell_type": "code",
      "source": [
        "High_sales = df[df['Sales']>25000]\n",
        "print(High_sales)"
      ],
      "metadata": {
        "colab": {
          "base_uri": "https://localhost:8080/"
        },
        "id": "yZJ10XtpOZxl",
        "outputId": "a3b0ebcc-0250-4932-a7f4-2ce3a118cdc5"
      },
      "execution_count": null,
      "outputs": [
        {
          "output_type": "stream",
          "name": "stdout",
          "text": [
            "  Salesperson Region  Sales Month\n",
            "1        Sara  South  27000   Jan\n",
            "2         Ali  North  30000   Feb\n"
          ]
        }
      ]
    },
    {
      "cell_type": "markdown",
      "source": [
        "✅ Step 7: Add Bonus Column\n"
      ],
      "metadata": {
        "id": "V3H3o7KqPGdt"
      }
    },
    {
      "cell_type": "code",
      "source": [
        "df['bonus'] = df['Sales'].apply(lambda x : 1000 if x > 25000 else 500)\n",
        "\n",
        "print(df)"
      ],
      "metadata": {
        "colab": {
          "base_uri": "https://localhost:8080/"
        },
        "id": "EmFFnHeNPKWF",
        "outputId": "cbb58acf-6879-4f22-f861-b4c7d35bfea8"
      },
      "execution_count": 8,
      "outputs": [
        {
          "output_type": "stream",
          "name": "stdout",
          "text": [
            "  Salesperson Region  Sales Month  bonus\n",
            "0         Ali  North  25000   Jan    500\n",
            "1        Sara  South  27000   Jan   1000\n",
            "2         Ali  North  30000   Feb   1000\n",
            "3        Zara   East  15000   Feb    500\n",
            "4        Sara  South  20000   Mar    500\n",
            "5        Zara   East  18000   Mar    500\n",
            "6         Ali   West  22000   Mar    500\n"
          ]
        }
      ]
    },
    {
      "cell_type": "markdown",
      "source": [
        "✅ Step 8: Pivot Table"
      ],
      "metadata": {
        "id": "dMwibCVOSA48"
      }
    },
    {
      "cell_type": "code",
      "source": [
        "# Pivot to show sales by person per month\n",
        "pivot = df.pivot_table(values='Sales', index='Salesperson', columns='Month', aggfunc='sum', fill_value=0)\n",
        "print(pivot)\n"
      ],
      "metadata": {
        "colab": {
          "base_uri": "https://localhost:8080/"
        },
        "id": "xxg1J7aXSAuN",
        "outputId": "bdbd8d04-6f8f-4c89-c84c-33da0fd3e313"
      },
      "execution_count": 9,
      "outputs": [
        {
          "output_type": "stream",
          "name": "stdout",
          "text": [
            "Month          Feb    Jan    Mar\n",
            "Salesperson                     \n",
            "Ali          30000  25000  22000\n",
            "Sara             0  27000  20000\n",
            "Zara         15000      0  18000\n"
          ]
        }
      ]
    },
    {
      "cell_type": "markdown",
      "source": [
        "✅ Step 9: Export to CSV"
      ],
      "metadata": {
        "id": "PJ11iqC2XTHE"
      }
    },
    {
      "cell_type": "code",
      "source": [
        "df.to_csv('sales_summry.csv', index=False)\n",
        "from google.colab import files\n",
        "files.download('sales_summry.csv')\n"
      ],
      "metadata": {
        "colab": {
          "base_uri": "https://localhost:8080/",
          "height": 17
        },
        "id": "QGGSHA56Xbac",
        "outputId": "7f28c6ee-b47a-4f04-f103-47c2f4c5ee6d"
      },
      "execution_count": 11,
      "outputs": [
        {
          "output_type": "display_data",
          "data": {
            "text/plain": [
              "<IPython.core.display.Javascript object>"
            ],
            "application/javascript": [
              "\n",
              "    async function download(id, filename, size) {\n",
              "      if (!google.colab.kernel.accessAllowed) {\n",
              "        return;\n",
              "      }\n",
              "      const div = document.createElement('div');\n",
              "      const label = document.createElement('label');\n",
              "      label.textContent = `Downloading \"${filename}\": `;\n",
              "      div.appendChild(label);\n",
              "      const progress = document.createElement('progress');\n",
              "      progress.max = size;\n",
              "      div.appendChild(progress);\n",
              "      document.body.appendChild(div);\n",
              "\n",
              "      const buffers = [];\n",
              "      let downloaded = 0;\n",
              "\n",
              "      const channel = await google.colab.kernel.comms.open(id);\n",
              "      // Send a message to notify the kernel that we're ready.\n",
              "      channel.send({})\n",
              "\n",
              "      for await (const message of channel.messages) {\n",
              "        // Send a message to notify the kernel that we're ready.\n",
              "        channel.send({})\n",
              "        if (message.buffers) {\n",
              "          for (const buffer of message.buffers) {\n",
              "            buffers.push(buffer);\n",
              "            downloaded += buffer.byteLength;\n",
              "            progress.value = downloaded;\n",
              "          }\n",
              "        }\n",
              "      }\n",
              "      const blob = new Blob(buffers, {type: 'application/binary'});\n",
              "      const a = document.createElement('a');\n",
              "      a.href = window.URL.createObjectURL(blob);\n",
              "      a.download = filename;\n",
              "      div.appendChild(a);\n",
              "      a.click();\n",
              "      div.remove();\n",
              "    }\n",
              "  "
            ]
          },
          "metadata": {}
        },
        {
          "output_type": "display_data",
          "data": {
            "text/plain": [
              "<IPython.core.display.Javascript object>"
            ],
            "application/javascript": [
              "download(\"download_4906f6f8-6dd3-4a79-9095-ff03e8721f56\", \"sales_summry.csv\", 208)"
            ]
          },
          "metadata": {}
        }
      ]
    },
    {
      "cell_type": "markdown",
      "source": [],
      "metadata": {
        "id": "XqXAfmQyT0ys"
      }
    }
  ]
}