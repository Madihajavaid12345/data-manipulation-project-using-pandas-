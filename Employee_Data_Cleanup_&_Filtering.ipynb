{
  "nbformat": 4,
  "nbformat_minor": 0,
  "metadata": {
    "colab": {
      "provenance": [],
      "authorship_tag": "ABX9TyP4PoI9w7hUWfpUjnLMgSpS",
      "include_colab_link": true
    },
    "kernelspec": {
      "name": "python3",
      "display_name": "Python 3"
    },
    "language_info": {
      "name": "python"
    }
  },
  "cells": [
    {
      "cell_type": "markdown",
      "metadata": {
        "id": "view-in-github",
        "colab_type": "text"
      },
      "source": [
        "<a href=\"https://colab.research.google.com/github/Madihajavaid12345/data-manipulation-project-using-pandas-/blob/main/Employee_Data_Cleanup_%26_Filtering.ipynb\" target=\"_parent\"><img src=\"https://colab.research.google.com/assets/colab-badge.svg\" alt=\"Open In Colab\"/></a>"
      ]
    },
    {
      "cell_type": "markdown",
      "source": [
        "🎯 Goal:\n",
        "Learn how to clean data, filter it with conditions, rename columns, and handle missing values.\n",
        "\n"
      ],
      "metadata": {
        "id": "L-H9epH1qCq1"
      }
    },
    {
      "cell_type": "markdown",
      "source": [
        "🔹 1. Create a DataFrame with this data (notice some missing values None):"
      ],
      "metadata": {
        "id": "1e87QWqoqIqV"
      }
    },
    {
      "cell_type": "code",
      "execution_count": 131,
      "metadata": {
        "colab": {
          "base_uri": "https://localhost:8080/"
        },
        "id": "GYjYQFLnpl_Y",
        "outputId": "dbb4c1a3-f3c5-4e67-fe8c-54b7bb5e37cf"
      },
      "outputs": [
        {
          "output_type": "stream",
          "name": "stdout",
          "text": [
            "  Emp_Name   Age Department   Salary\n",
            "0    Ahmed  35.0         Hr  50000.0\n",
            "1    Zahra  37.0    Finance  65000.0\n",
            "2    Bilal   NaN         IT  55000.0\n",
            "3     Saad  23.0       None  70000.0\n",
            "4     Rabi  27.0         IT      NaN\n"
          ]
        }
      ],
      "source": [
        "import pandas as pd\n",
        "Data = {\n",
        "     'Emp_Name': ['Ahmed', 'Zahra', 'Bilal', 'Saad', 'Rabi'],\n",
        "     'Age': [35, 37, None, 23, 27],\n",
        "     'Department':['Hr', 'Finance', 'IT', None, 'IT'],\n",
        "     'Salary': [50000, 65000, 55000, 70000, None]\n",
        "}\n",
        "df = pd.DataFrame(Data)\n",
        "print(df)"
      ]
    },
    {
      "cell_type": "markdown",
      "source": [
        "🔹 2. Check basic info:"
      ],
      "metadata": {
        "id": "4bqYVus7r9ib"
      }
    },
    {
      "cell_type": "code",
      "source": [
        "print(df.info())\n"
      ],
      "metadata": {
        "colab": {
          "base_uri": "https://localhost:8080/"
        },
        "id": "dQ4A29gep_11",
        "outputId": "3a92fca8-750d-46e2-95ac-bc94d36a1ce8"
      },
      "execution_count": 132,
      "outputs": [
        {
          "output_type": "stream",
          "name": "stdout",
          "text": [
            "<class 'pandas.core.frame.DataFrame'>\n",
            "RangeIndex: 5 entries, 0 to 4\n",
            "Data columns (total 4 columns):\n",
            " #   Column      Non-Null Count  Dtype  \n",
            "---  ------      --------------  -----  \n",
            " 0   Emp_Name    5 non-null      object \n",
            " 1   Age         4 non-null      float64\n",
            " 2   Department  4 non-null      object \n",
            " 3   Salary      4 non-null      float64\n",
            "dtypes: float64(2), object(2)\n",
            "memory usage: 292.0+ bytes\n",
            "None\n"
          ]
        }
      ]
    },
    {
      "cell_type": "code",
      "source": [
        "print(df.describe())"
      ],
      "metadata": {
        "colab": {
          "base_uri": "https://localhost:8080/"
        },
        "id": "7cRnmd_xsacC",
        "outputId": "9de227c9-f59d-4270-a6e4-fab285c89be0"
      },
      "execution_count": 133,
      "outputs": [
        {
          "output_type": "stream",
          "name": "stdout",
          "text": [
            "             Age        Salary\n",
            "count   4.000000      4.000000\n",
            "mean   30.500000  60000.000000\n",
            "std     6.608076   9128.709292\n",
            "min    23.000000  50000.000000\n",
            "25%    26.000000  53750.000000\n",
            "50%    31.000000  60000.000000\n",
            "75%    35.500000  66250.000000\n",
            "max    37.000000  70000.000000\n"
          ]
        }
      ]
    },
    {
      "cell_type": "markdown",
      "source": [
        "🔹 3. Find rows with missing values"
      ],
      "metadata": {
        "id": "YZ67yeJescjZ"
      }
    },
    {
      "cell_type": "code",
      "source": [
        "print(df.isnull())"
      ],
      "metadata": {
        "colab": {
          "base_uri": "https://localhost:8080/"
        },
        "id": "dwwKxuh2sgHZ",
        "outputId": "0ebdac8f-1809-4607-960c-71c84be11335"
      },
      "execution_count": 134,
      "outputs": [
        {
          "output_type": "stream",
          "name": "stdout",
          "text": [
            "   Emp_Name    Age  Department  Salary\n",
            "0     False  False       False   False\n",
            "1     False  False       False   False\n",
            "2     False   True       False   False\n",
            "3     False  False        True   False\n",
            "4     False  False       False    True\n"
          ]
        }
      ]
    },
    {
      "cell_type": "markdown",
      "source": [
        "🔹 4. Fill missing \"Age\" with average age"
      ],
      "metadata": {
        "id": "pLp2uTyms0Th"
      }
    },
    {
      "cell_type": "code",
      "source": [
        "print(df['Age'])"
      ],
      "metadata": {
        "colab": {
          "base_uri": "https://localhost:8080/"
        },
        "id": "avQHgK_Wu7eW",
        "outputId": "33f52184-7be8-4f2d-f3f2-04163f8cfaac"
      },
      "execution_count": 135,
      "outputs": [
        {
          "output_type": "stream",
          "name": "stdout",
          "text": [
            "0    35.0\n",
            "1    37.0\n",
            "2     NaN\n",
            "3    23.0\n",
            "4    27.0\n",
            "Name: Age, dtype: float64\n"
          ]
        }
      ]
    },
    {
      "cell_type": "code",
      "source": [
        "df['Age'] = df['Age'].fillna(df['Age'].mean())\n",
        "print(df['Age'])"
      ],
      "metadata": {
        "colab": {
          "base_uri": "https://localhost:8080/"
        },
        "id": "WwrX936hxcAL",
        "outputId": "5bd66319-df45-46b1-f1bd-657e12f7da8c"
      },
      "execution_count": 141,
      "outputs": [
        {
          "output_type": "stream",
          "name": "stdout",
          "text": [
            "3    23.000000\n",
            "0    35.000000\n",
            "1    37.000000\n",
            "2    31.666667\n",
            "Name: Age, dtype: float64\n"
          ]
        }
      ]
    },
    {
      "cell_type": "markdown",
      "source": [
        "🔹 5. Fill missing \"Department\" with \"Not Assigned\".\n"
      ],
      "metadata": {
        "id": "Iasonp_4vr-F"
      }
    },
    {
      "cell_type": "code",
      "source": [
        "df['Department'] = df['Department'].fillna('Not Assigned')\n",
        "print(df['Department'])"
      ],
      "metadata": {
        "colab": {
          "base_uri": "https://localhost:8080/"
        },
        "id": "pf_TtHz5xzFZ",
        "outputId": "43691ef8-5f7a-4d6a-bbba-65b692affbd4"
      },
      "execution_count": 142,
      "outputs": [
        {
          "output_type": "stream",
          "name": "stdout",
          "text": [
            "3    Not Assigned\n",
            "0              Hr\n",
            "1         Finance\n",
            "2              IT\n",
            "Name: Department, dtype: object\n"
          ]
        }
      ]
    },
    {
      "cell_type": "markdown",
      "source": [
        "🔹 6. Drop rows where \"Salary\" is missing."
      ],
      "metadata": {
        "id": "J3KEiRmgyuJB"
      }
    },
    {
      "cell_type": "code",
      "source": [
        "df = df.dropna(subset=['Salary'])\n",
        "print(df['Salary'])"
      ],
      "metadata": {
        "colab": {
          "base_uri": "https://localhost:8080/"
        },
        "id": "7OH82SwSytt5",
        "outputId": "e4922285-1f45-4217-94d0-754df39d2e1e"
      },
      "execution_count": 143,
      "outputs": [
        {
          "output_type": "stream",
          "name": "stdout",
          "text": [
            "3    70000.0\n",
            "0    50000.0\n",
            "1    65000.0\n",
            "2    55000.0\n",
            "Name: Salary, dtype: float64\n"
          ]
        }
      ]
    },
    {
      "cell_type": "markdown",
      "source": [
        "🔹 7. Rename \"Emp_Name\" to \"Employee\"\n"
      ],
      "metadata": {
        "id": "gv9MPSEIzBHI"
      }
    },
    {
      "cell_type": "code",
      "source": [
        "df = df.rename(columns={'Emp_Name': 'Employee'})\n",
        "print(df)"
      ],
      "metadata": {
        "colab": {
          "base_uri": "https://localhost:8080/"
        },
        "id": "FsW4ghy9zMYQ",
        "outputId": "5a4a09a6-a277-49db-8e87-3b45a51d33ca"
      },
      "execution_count": 144,
      "outputs": [
        {
          "output_type": "stream",
          "name": "stdout",
          "text": [
            "  Employee        Age    Department   Salary\n",
            "3     Saad  23.000000  Not Assigned  70000.0\n",
            "0    Ahmed  35.000000            Hr  50000.0\n",
            "1    Zahra  37.000000       Finance  65000.0\n",
            "2    Bilal  31.666667            IT  55000.0\n"
          ]
        }
      ]
    },
    {
      "cell_type": "markdown",
      "source": [
        "🔹 8. Filter and print only employees from \"IT\" department.\n"
      ],
      "metadata": {
        "id": "gatNF1YuznFH"
      }
    },
    {
      "cell_type": "code",
      "source": [
        "IT_employees = df.query('Department == \"IT\"')\n",
        "print(IT_employees)"
      ],
      "metadata": {
        "colab": {
          "base_uri": "https://localhost:8080/"
        },
        "id": "eMF4NeZUz0Uv",
        "outputId": "feec1c92-3bb5-4aa0-e4e4-220ecd3bec30"
      },
      "execution_count": 145,
      "outputs": [
        {
          "output_type": "stream",
          "name": "stdout",
          "text": [
            "  Employee        Age Department   Salary\n",
            "2    Bilal  31.666667         IT  55000.0\n"
          ]
        }
      ]
    },
    {
      "cell_type": "markdown",
      "source": [
        "🔹 9. Sort employees by \"Age\" in ascending order.\n"
      ],
      "metadata": {
        "id": "OoTH6ZwT0dv-"
      }
    },
    {
      "cell_type": "code",
      "source": [
        "df = df.sort_values(by='Age')\n",
        "print(df)"
      ],
      "metadata": {
        "colab": {
          "base_uri": "https://localhost:8080/"
        },
        "id": "or5wsp2A2kPz",
        "outputId": "c7ce7b42-a44b-4986-e9c8-f4adefd2dc36"
      },
      "execution_count": 146,
      "outputs": [
        {
          "output_type": "stream",
          "name": "stdout",
          "text": [
            "  Employee        Age    Department   Salary\n",
            "3     Saad  23.000000  Not Assigned  70000.0\n",
            "2    Bilal  31.666667            IT  55000.0\n",
            "0    Ahmed  35.000000            Hr  50000.0\n",
            "1    Zahra  37.000000       Finance  65000.0\n"
          ]
        }
      ]
    },
    {
      "cell_type": "markdown",
      "source": [
        "🔹 10. Reset index of the cleaned DataFrame"
      ],
      "metadata": {
        "id": "wBjAd6AY3eMD"
      }
    },
    {
      "cell_type": "code",
      "source": [
        "df = df.reset_index(drop=True)\n",
        "print(df)"
      ],
      "metadata": {
        "colab": {
          "base_uri": "https://localhost:8080/"
        },
        "id": "ShsOdUkg3ifL",
        "outputId": "cabd21c3-5744-4595-8221-f2d5484aa027"
      },
      "execution_count": 147,
      "outputs": [
        {
          "output_type": "stream",
          "name": "stdout",
          "text": [
            "  Employee        Age    Department   Salary\n",
            "0     Saad  23.000000  Not Assigned  70000.0\n",
            "1    Bilal  31.666667            IT  55000.0\n",
            "2    Ahmed  35.000000            Hr  50000.0\n",
            "3    Zahra  37.000000       Finance  65000.0\n"
          ]
        }
      ]
    },
    {
      "cell_type": "markdown",
      "source": [
        "Save your final cleaned data to a file called \"cleaned_employees.csv\"."
      ],
      "metadata": {
        "id": "x7e2UT1H34FC"
      }
    },
    {
      "cell_type": "code",
      "source": [
        "df.to_csv('cleaned_employees.csv')"
      ],
      "metadata": {
        "id": "EffRO2GH36bK"
      },
      "execution_count": 150,
      "outputs": []
    },
    {
      "cell_type": "code",
      "source": [],
      "metadata": {
        "id": "NNIItlpJ4g9S"
      },
      "execution_count": null,
      "outputs": []
    },
    {
      "cell_type": "markdown",
      "source": [
        "To download it to your computer, run this extra line after saving:"
      ],
      "metadata": {
        "id": "-eVRTFDE4TeT"
      }
    },
    {
      "cell_type": "code",
      "source": [
        "from google.colab import files\n",
        "files.download('cleaned_employees.csv')"
      ],
      "metadata": {
        "colab": {
          "base_uri": "https://localhost:8080/",
          "height": 17
        },
        "id": "BlU4kjMS4UP5",
        "outputId": "58c9737f-ee0d-4b89-c978-6becadf43b39"
      },
      "execution_count": 155,
      "outputs": [
        {
          "output_type": "display_data",
          "data": {
            "text/plain": [
              "<IPython.core.display.Javascript object>"
            ],
            "application/javascript": [
              "\n",
              "    async function download(id, filename, size) {\n",
              "      if (!google.colab.kernel.accessAllowed) {\n",
              "        return;\n",
              "      }\n",
              "      const div = document.createElement('div');\n",
              "      const label = document.createElement('label');\n",
              "      label.textContent = `Downloading \"${filename}\": `;\n",
              "      div.appendChild(label);\n",
              "      const progress = document.createElement('progress');\n",
              "      progress.max = size;\n",
              "      div.appendChild(progress);\n",
              "      document.body.appendChild(div);\n",
              "\n",
              "      const buffers = [];\n",
              "      let downloaded = 0;\n",
              "\n",
              "      const channel = await google.colab.kernel.comms.open(id);\n",
              "      // Send a message to notify the kernel that we're ready.\n",
              "      channel.send({})\n",
              "\n",
              "      for await (const message of channel.messages) {\n",
              "        // Send a message to notify the kernel that we're ready.\n",
              "        channel.send({})\n",
              "        if (message.buffers) {\n",
              "          for (const buffer of message.buffers) {\n",
              "            buffers.push(buffer);\n",
              "            downloaded += buffer.byteLength;\n",
              "            progress.value = downloaded;\n",
              "          }\n",
              "        }\n",
              "      }\n",
              "      const blob = new Blob(buffers, {type: 'application/binary'});\n",
              "      const a = document.createElement('a');\n",
              "      a.href = window.URL.createObjectURL(blob);\n",
              "      a.download = filename;\n",
              "      div.appendChild(a);\n",
              "      a.click();\n",
              "      div.remove();\n",
              "    }\n",
              "  "
            ]
          },
          "metadata": {}
        },
        {
          "output_type": "display_data",
          "data": {
            "text/plain": [
              "<IPython.core.display.Javascript object>"
            ],
            "application/javascript": [
              "download(\"download_af31a2d4-9e3e-4bdb-a13c-21d302fd57aa\", \"cleaned_employees.csv\", 156)"
            ]
          },
          "metadata": {}
        }
      ]
    }
  ]
}