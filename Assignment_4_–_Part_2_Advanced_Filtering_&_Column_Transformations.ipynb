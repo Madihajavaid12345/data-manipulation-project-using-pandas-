{
  "nbformat": 4,
  "nbformat_minor": 0,
  "metadata": {
    "colab": {
      "provenance": [],
      "authorship_tag": "ABX9TyMKuwjXbBblU7bGcuUHG/z2",
      "include_colab_link": true
    },
    "kernelspec": {
      "name": "python3",
      "display_name": "Python 3"
    },
    "language_info": {
      "name": "python"
    }
  },
  "cells": [
    {
      "cell_type": "markdown",
      "metadata": {
        "id": "view-in-github",
        "colab_type": "text"
      },
      "source": [
        "<a href=\"https://colab.research.google.com/github/Madihajavaid12345/data-manipulation-project-using-pandas-/blob/main/Assignment_4_%E2%80%93_Part_2_Advanced_Filtering_%26_Column_Transformations.ipynb\" target=\"_parent\"><img src=\"https://colab.research.google.com/assets/colab-badge.svg\" alt=\"Open In Colab\"/></a>"
      ]
    },
    {
      "cell_type": "code",
      "source": [
        "import pandas as pd\n",
        "df = pd.read_csv('https://raw.githubusercontent.com/mwaskom/seaborn-data/master/tips.csv')\n",
        "print(df.head())\n",
        "print(df.tail())\n",
        "print(df.info())\n",
        "print(df.describe())"
      ],
      "metadata": {
        "colab": {
          "base_uri": "https://localhost:8080/"
        },
        "id": "oC0lZ40VoGYv",
        "outputId": "36a661d9-e853-4e70-d7c8-1c5fd31a8f90"
      },
      "execution_count": 3,
      "outputs": [
        {
          "output_type": "stream",
          "name": "stdout",
          "text": [
            "   total_bill   tip     sex smoker  day    time  size\n",
            "0       16.99  1.01  Female     No  Sun  Dinner     2\n",
            "1       10.34  1.66    Male     No  Sun  Dinner     3\n",
            "2       21.01  3.50    Male     No  Sun  Dinner     3\n",
            "3       23.68  3.31    Male     No  Sun  Dinner     2\n",
            "4       24.59  3.61  Female     No  Sun  Dinner     4\n",
            "     total_bill   tip     sex smoker   day    time  size\n",
            "239       29.03  5.92    Male     No   Sat  Dinner     3\n",
            "240       27.18  2.00  Female    Yes   Sat  Dinner     2\n",
            "241       22.67  2.00    Male    Yes   Sat  Dinner     2\n",
            "242       17.82  1.75    Male     No   Sat  Dinner     2\n",
            "243       18.78  3.00  Female     No  Thur  Dinner     2\n",
            "<class 'pandas.core.frame.DataFrame'>\n",
            "RangeIndex: 244 entries, 0 to 243\n",
            "Data columns (total 7 columns):\n",
            " #   Column      Non-Null Count  Dtype  \n",
            "---  ------      --------------  -----  \n",
            " 0   total_bill  244 non-null    float64\n",
            " 1   tip         244 non-null    float64\n",
            " 2   sex         244 non-null    object \n",
            " 3   smoker      244 non-null    object \n",
            " 4   day         244 non-null    object \n",
            " 5   time        244 non-null    object \n",
            " 6   size        244 non-null    int64  \n",
            "dtypes: float64(2), int64(1), object(4)\n",
            "memory usage: 13.5+ KB\n",
            "None\n",
            "       total_bill         tip        size\n",
            "count  244.000000  244.000000  244.000000\n",
            "mean    19.785943    2.998279    2.569672\n",
            "std      8.902412    1.383638    0.951100\n",
            "min      3.070000    1.000000    1.000000\n",
            "25%     13.347500    2.000000    2.000000\n",
            "50%     17.795000    2.900000    2.000000\n",
            "75%     24.127500    3.562500    3.000000\n",
            "max     50.810000   10.000000    6.000000\n"
          ]
        }
      ]
    },
    {
      "cell_type": "markdown",
      "source": [
        "🔹 Filter with .isin()"
      ],
      "metadata": {
        "id": "ywDLVYkzoBw6"
      }
    },
    {
      "cell_type": "code",
      "execution_count": 13,
      "metadata": {
        "colab": {
          "base_uri": "https://localhost:8080/"
        },
        "id": "R1DlOtjJm7xf",
        "outputId": "cceeccc0-673a-43c8-9921-595859902db1"
      },
      "outputs": [
        {
          "output_type": "stream",
          "name": "stdout",
          "text": [
            "     total_bill   tip     sex smoker  day    time  size\n",
            "0         16.99  1.01  Female     No  Sun  Dinner     2\n",
            "1         10.34  1.66    Male     No  Sun  Dinner     3\n",
            "2         21.01  3.50    Male     No  Sun  Dinner     3\n",
            "3         23.68  3.31    Male     No  Sun  Dinner     2\n",
            "4         24.59  3.61  Female     No  Sun  Dinner     4\n",
            "..          ...   ...     ...    ...  ...     ...   ...\n",
            "238       35.83  4.67  Female     No  Sat  Dinner     3\n",
            "239       29.03  5.92    Male     No  Sat  Dinner     3\n",
            "240       27.18  2.00  Female    Yes  Sat  Dinner     2\n",
            "241       22.67  2.00    Male    Yes  Sat  Dinner     2\n",
            "242       17.82  1.75    Male     No  Sat  Dinner     2\n",
            "\n",
            "[163 rows x 7 columns]\n"
          ]
        }
      ],
      "source": [
        "weekend_tips = df[df['day'].isin(['Sat', 'Sun'])]\n",
        "print(weekend_tips)\n",
        "\n"
      ]
    },
    {
      "cell_type": "markdown",
      "source": [
        "🔹 Filter with str.contains()"
      ],
      "metadata": {
        "id": "0iazSNMKqWBc"
      }
    },
    {
      "cell_type": "code",
      "source": [
        "femail_tips = df[df['sex'].str.contains('F')]\n",
        "print(femail_tips)"
      ],
      "metadata": {
        "colab": {
          "base_uri": "https://localhost:8080/"
        },
        "id": "3KXf0QhSqX5r",
        "outputId": "d2bd9177-9894-41b4-ec39-67a9bfdfa763"
      },
      "execution_count": 16,
      "outputs": [
        {
          "output_type": "stream",
          "name": "stdout",
          "text": [
            "     total_bill   tip     sex smoker   day    time  size\n",
            "0         16.99  1.01  Female     No   Sun  Dinner     2\n",
            "4         24.59  3.61  Female     No   Sun  Dinner     4\n",
            "11        35.26  5.00  Female     No   Sun  Dinner     4\n",
            "14        14.83  3.02  Female     No   Sun  Dinner     2\n",
            "16        10.33  1.67  Female     No   Sun  Dinner     3\n",
            "..          ...   ...     ...    ...   ...     ...   ...\n",
            "226       10.09  2.00  Female    Yes   Fri   Lunch     2\n",
            "229       22.12  2.88  Female    Yes   Sat  Dinner     2\n",
            "238       35.83  4.67  Female     No   Sat  Dinner     3\n",
            "240       27.18  2.00  Female    Yes   Sat  Dinner     2\n",
            "243       18.78  3.00  Female     No  Thur  Dinner     2\n",
            "\n",
            "[87 rows x 7 columns]\n"
          ]
        }
      ]
    },
    {
      "cell_type": "markdown",
      "source": [
        "🔹 Filter for ‘Dinner’ time and total_bill < 20\n"
      ],
      "metadata": {
        "id": "P7htt-r9rAKs"
      }
    },
    {
      "cell_type": "code",
      "source": [
        "Dinner_time = df[(df['time'] == 'Dinner') & (df['total_bill'] < 20)]\n",
        "print(Dinner_time)"
      ],
      "metadata": {
        "colab": {
          "base_uri": "https://localhost:8080/"
        },
        "id": "hNkQX1lprEcL",
        "outputId": "88721511-d597-4438-9b1d-0ffc90bc3eb7"
      },
      "execution_count": 24,
      "outputs": [
        {
          "output_type": "stream",
          "name": "stdout",
          "text": [
            "     total_bill   tip     sex smoker   day    time  size\n",
            "0         16.99  1.01  Female     No   Sun  Dinner     2\n",
            "1         10.34  1.66    Male     No   Sun  Dinner     3\n",
            "6          8.77  2.00    Male     No   Sun  Dinner     2\n",
            "8         15.04  1.96    Male     No   Sun  Dinner     2\n",
            "9         14.78  3.23    Male     No   Sun  Dinner     2\n",
            "..          ...   ...     ...    ...   ...     ...   ...\n",
            "234       15.53  3.00    Male    Yes   Sat  Dinner     2\n",
            "235       10.07  1.25    Male     No   Sat  Dinner     2\n",
            "236       12.60  1.00    Male    Yes   Sat  Dinner     2\n",
            "242       17.82  1.75    Male     No   Sat  Dinner     2\n",
            "243       18.78  3.00  Female     No  Thur  Dinner     2\n",
            "\n",
            "[95 rows x 7 columns]\n"
          ]
        }
      ]
    },
    {
      "cell_type": "markdown",
      "source": [
        "🔹  Add a new column"
      ],
      "metadata": {
        "id": "-lMHIdWIsKwk"
      }
    },
    {
      "cell_type": "code",
      "source": [
        "df['tip_percentage'] = round((df['tip'] / df['total_bill']) * 100, 2)\n",
        "print(df[['total_bill', 'tip', 'tip_percentage']].head())"
      ],
      "metadata": {
        "colab": {
          "base_uri": "https://localhost:8080/"
        },
        "id": "M7LwFYiRsMVh",
        "outputId": "6701a3c6-3a37-49d9-afba-c9ea3fd8ddf5"
      },
      "execution_count": 25,
      "outputs": [
        {
          "output_type": "stream",
          "name": "stdout",
          "text": [
            "   total_bill   tip  tip_percentage\n",
            "0       16.99  1.01            5.94\n",
            "1       10.34  1.66           16.05\n",
            "2       21.01  3.50           16.66\n",
            "3       23.68  3.31           13.98\n",
            "4       24.59  3.61           14.68\n"
          ]
        }
      ]
    }
  ]
}