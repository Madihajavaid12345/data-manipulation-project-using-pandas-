{
  "nbformat": 4,
  "nbformat_minor": 0,
  "metadata": {
    "colab": {
      "provenance": [],
      "authorship_tag": "ABX9TyO6ICfTPRttT1Z/hMmokMSB",
      "include_colab_link": true
    },
    "kernelspec": {
      "name": "python3",
      "display_name": "Python 3"
    },
    "language_info": {
      "name": "python"
    }
  },
  "cells": [
    {
      "cell_type": "markdown",
      "metadata": {
        "id": "view-in-github",
        "colab_type": "text"
      },
      "source": [
        "<a href=\"https://colab.research.google.com/github/Madihajavaid12345/data-manipulation-project-using-pandas-/blob/main/%E2%9C%85_Day_1_Importing_%26_Inspecting_Data.ipynb\" target=\"_parent\"><img src=\"https://colab.research.google.com/assets/colab-badge.svg\" alt=\"Open In Colab\"/></a>"
      ]
    },
    {
      "cell_type": "markdown",
      "source": [
        "🎯 Goal:\n",
        "Learn how to load a dataset\n",
        "\n",
        "Explore the structure of the data"
      ],
      "metadata": {
        "id": "HM4JKTh-RbX6"
      }
    },
    {
      "cell_type": "code",
      "source": [
        "import pandas as pd\n"
      ],
      "metadata": {
        "id": "ZD8N2JXSSIAA"
      },
      "execution_count": null,
      "outputs": []
    },
    {
      "cell_type": "code",
      "execution_count": null,
      "metadata": {
        "id": "tbmCWUy7RLZH"
      },
      "outputs": [],
      "source": [
        "# load sample data set\n",
        "df = pd.read_csv(\"https://raw.githubusercontent.com/mwaskom/seaborn-data/master/tips.csv\")"
      ]
    },
    {
      "cell_type": "code",
      "source": [
        "#view 1st few rows\n",
        "print(df.head(6))"
      ],
      "metadata": {
        "colab": {
          "base_uri": "https://localhost:8080/"
        },
        "id": "4ze0Ez5ASyVo",
        "outputId": "1cb7026d-8e18-4299-ffc2-f6ed117c2083"
      },
      "execution_count": null,
      "outputs": [
        {
          "output_type": "stream",
          "name": "stdout",
          "text": [
            "   total_bill   tip     sex smoker  day    time  size\n",
            "0       16.99  1.01  Female     No  Sun  Dinner     2\n",
            "1       10.34  1.66    Male     No  Sun  Dinner     3\n",
            "2       21.01  3.50    Male     No  Sun  Dinner     3\n",
            "3       23.68  3.31    Male     No  Sun  Dinner     2\n",
            "4       24.59  3.61  Female     No  Sun  Dinner     4\n",
            "5       25.29  4.71    Male     No  Sun  Dinner     4\n"
          ]
        }
      ]
    },
    {
      "cell_type": "code",
      "source": [
        "print(df.info())"
      ],
      "metadata": {
        "colab": {
          "base_uri": "https://localhost:8080/"
        },
        "id": "E15fcTrKS8rv",
        "outputId": "015395ba-4581-4521-aa00-855954774dcf"
      },
      "execution_count": null,
      "outputs": [
        {
          "output_type": "stream",
          "name": "stdout",
          "text": [
            "<class 'pandas.core.frame.DataFrame'>\n",
            "RangeIndex: 244 entries, 0 to 243\n",
            "Data columns (total 7 columns):\n",
            " #   Column      Non-Null Count  Dtype  \n",
            "---  ------      --------------  -----  \n",
            " 0   total_bill  244 non-null    float64\n",
            " 1   tip         244 non-null    float64\n",
            " 2   sex         244 non-null    object \n",
            " 3   smoker      244 non-null    object \n",
            " 4   day         244 non-null    object \n",
            " 5   time        244 non-null    object \n",
            " 6   size        244 non-null    int64  \n",
            "dtypes: float64(2), int64(1), object(4)\n",
            "memory usage: 13.5+ KB\n",
            "None\n"
          ]
        }
      ]
    },
    {
      "cell_type": "code",
      "source": [
        "print(df.describe())"
      ],
      "metadata": {
        "colab": {
          "base_uri": "https://localhost:8080/"
        },
        "id": "7pUDoEv-TMm_",
        "outputId": "62a00776-157e-4522-96c4-62e6dc56efc0"
      },
      "execution_count": null,
      "outputs": [
        {
          "output_type": "stream",
          "name": "stdout",
          "text": [
            "       total_bill         tip        size\n",
            "count  244.000000  244.000000  244.000000\n",
            "mean    19.785943    2.998279    2.569672\n",
            "std      8.902412    1.383638    0.951100\n",
            "min      3.070000    1.000000    1.000000\n",
            "25%     13.347500    2.000000    2.000000\n",
            "50%     17.795000    2.900000    2.000000\n",
            "75%     24.127500    3.562500    3.000000\n",
            "max     50.810000   10.000000    6.000000\n"
          ]
        }
      ]
    },
    {
      "cell_type": "markdown",
      "source": [
        "✅ Day 2: Data Selection & Filtering in Pandas"
      ],
      "metadata": {
        "id": "UA3W00bOUz6F"
      }
    },
    {
      "cell_type": "markdown",
      "source": [
        "📘 Objectives:\n",
        "Select columns (single and multiple)\n",
        "\n",
        "Filter rows using conditions\n",
        "\n",
        "Use logical operators (&, |, ~)"
      ],
      "metadata": {
        "id": "-J0ydTuyU9uE"
      }
    },
    {
      "cell_type": "code",
      "source": [
        "# select a single column\n",
        "print(df['total_bill'])\n",
        "#select multiple column\n",
        "print(df[['tip', 'size']])\n"
      ],
      "metadata": {
        "colab": {
          "base_uri": "https://localhost:8080/"
        },
        "id": "ITR-IO5bU4gE",
        "outputId": "b9bcd5a1-6619-410d-803f-e52658a8af19"
      },
      "execution_count": null,
      "outputs": [
        {
          "output_type": "stream",
          "name": "stdout",
          "text": [
            "0      16.99\n",
            "1      10.34\n",
            "2      21.01\n",
            "3      23.68\n",
            "4      24.59\n",
            "       ...  \n",
            "239    29.03\n",
            "240    27.18\n",
            "241    22.67\n",
            "242    17.82\n",
            "243    18.78\n",
            "Name: total_bill, Length: 244, dtype: float64\n",
            "      tip  size\n",
            "0    1.01     2\n",
            "1    1.66     3\n",
            "2    3.50     3\n",
            "3    3.31     2\n",
            "4    3.61     4\n",
            "..    ...   ...\n",
            "239  5.92     3\n",
            "240  2.00     2\n",
            "241  2.00     2\n",
            "242  1.75     2\n",
            "243  3.00     2\n",
            "\n",
            "[244 rows x 2 columns]\n"
          ]
        }
      ]
    },
    {
      "cell_type": "code",
      "source": [
        "#filters rows using conditions\n",
        "#bills greater than 20\n",
        "print(df[df['total_bill'] > 20])"
      ],
      "metadata": {
        "colab": {
          "base_uri": "https://localhost:8080/"
        },
        "id": "hAhLvIX8WlMz",
        "outputId": "5a36311c-b6ee-4061-a957-b72490c93819"
      },
      "execution_count": null,
      "outputs": [
        {
          "output_type": "stream",
          "name": "stdout",
          "text": [
            "     total_bill   tip     sex smoker  day    time  size\n",
            "2         21.01  3.50    Male     No  Sun  Dinner     3\n",
            "3         23.68  3.31    Male     No  Sun  Dinner     2\n",
            "4         24.59  3.61  Female     No  Sun  Dinner     4\n",
            "5         25.29  4.71    Male     No  Sun  Dinner     4\n",
            "7         26.88  3.12    Male     No  Sun  Dinner     4\n",
            "..          ...   ...     ...    ...  ...     ...   ...\n",
            "237       32.83  1.17    Male    Yes  Sat  Dinner     2\n",
            "238       35.83  4.67  Female     No  Sat  Dinner     3\n",
            "239       29.03  5.92    Male     No  Sat  Dinner     3\n",
            "240       27.18  2.00  Female    Yes  Sat  Dinner     2\n",
            "241       22.67  2.00    Male    Yes  Sat  Dinner     2\n",
            "\n",
            "[97 rows x 7 columns]\n"
          ]
        }
      ]
    },
    {
      "cell_type": "code",
      "source": [
        "#tips lessthan 3\n",
        "print(df[df['tip'] < 3 ])"
      ],
      "metadata": {
        "colab": {
          "base_uri": "https://localhost:8080/"
        },
        "id": "4e12HRdRXghK",
        "outputId": "17c23f1b-a260-4511-dad1-977871812d20"
      },
      "execution_count": null,
      "outputs": [
        {
          "output_type": "stream",
          "name": "stdout",
          "text": [
            "     total_bill   tip     sex smoker  day    time  size\n",
            "0         16.99  1.01  Female     No  Sun  Dinner     2\n",
            "1         10.34  1.66    Male     No  Sun  Dinner     3\n",
            "6          8.77  2.00    Male     No  Sun  Dinner     2\n",
            "8         15.04  1.96    Male     No  Sun  Dinner     2\n",
            "10        10.27  1.71    Male     No  Sun  Dinner     2\n",
            "..          ...   ...     ...    ...  ...     ...   ...\n",
            "236       12.60  1.00    Male    Yes  Sat  Dinner     2\n",
            "237       32.83  1.17    Male    Yes  Sat  Dinner     2\n",
            "240       27.18  2.00  Female    Yes  Sat  Dinner     2\n",
            "241       22.67  2.00    Male    Yes  Sat  Dinner     2\n",
            "242       17.82  1.75    Male     No  Sat  Dinner     2\n",
            "\n",
            "[123 rows x 7 columns]\n"
          ]
        }
      ]
    },
    {
      "cell_type": "markdown",
      "source": [
        "🔹 3. Combine Conditions (AND, OR, NOT)"
      ],
      "metadata": {
        "id": "USWMn3iQYIxY"
      }
    },
    {
      "cell_type": "code",
      "source": [
        "print(df[(df[\"total_bill\"] > 20) & (df[\"tip\"] > 3)])"
      ],
      "metadata": {
        "colab": {
          "base_uri": "https://localhost:8080/"
        },
        "id": "OSAPK-9eYE8p",
        "outputId": "30275642-a48d-4509-9dff-5c779368bc94"
      },
      "execution_count": null,
      "outputs": [
        {
          "output_type": "stream",
          "name": "stdout",
          "text": [
            "     total_bill   tip     sex smoker  day    time  size\n",
            "2         21.01  3.50    Male     No  Sun  Dinner     3\n",
            "3         23.68  3.31    Male     No  Sun  Dinner     2\n",
            "4         24.59  3.61  Female     No  Sun  Dinner     4\n",
            "5         25.29  4.71    Male     No  Sun  Dinner     4\n",
            "7         26.88  3.12    Male     No  Sun  Dinner     4\n",
            "..          ...   ...     ...    ...  ...     ...   ...\n",
            "212       48.33  9.00    Male     No  Sat  Dinner     4\n",
            "214       28.17  6.50  Female    Yes  Sat  Dinner     3\n",
            "219       30.14  3.09  Female    Yes  Sat  Dinner     4\n",
            "238       35.83  4.67  Female     No  Sat  Dinner     3\n",
            "239       29.03  5.92    Male     No  Sat  Dinner     3\n",
            "\n",
            "[67 rows x 7 columns]\n"
          ]
        }
      ]
    },
    {
      "cell_type": "code",
      "source": [
        "print(df[(df['total_bill'] > 20) | (df['tip'] > 3)])"
      ],
      "metadata": {
        "colab": {
          "base_uri": "https://localhost:8080/"
        },
        "id": "yfN-yuYyYKgQ",
        "outputId": "8ad5f6f4-69dc-4ddb-9927-d73c82752d38"
      },
      "execution_count": null,
      "outputs": [
        {
          "output_type": "stream",
          "name": "stdout",
          "text": [
            "     total_bill   tip     sex smoker  day    time  size\n",
            "2         21.01  3.50    Male     No  Sun  Dinner     3\n",
            "3         23.68  3.31    Male     No  Sun  Dinner     2\n",
            "4         24.59  3.61  Female     No  Sun  Dinner     4\n",
            "5         25.29  4.71    Male     No  Sun  Dinner     4\n",
            "7         26.88  3.12    Male     No  Sun  Dinner     4\n",
            "..          ...   ...     ...    ...  ...     ...   ...\n",
            "237       32.83  1.17    Male    Yes  Sat  Dinner     2\n",
            "238       35.83  4.67  Female     No  Sat  Dinner     3\n",
            "239       29.03  5.92    Male     No  Sat  Dinner     3\n",
            "240       27.18  2.00  Female    Yes  Sat  Dinner     2\n",
            "241       22.67  2.00    Male    Yes  Sat  Dinner     2\n",
            "\n",
            "[128 rows x 7 columns]\n"
          ]
        }
      ]
    },
    {
      "cell_type": "code",
      "source": [
        "print(df[~(df['smoker'] == 'Yes')])"
      ],
      "metadata": {
        "colab": {
          "base_uri": "https://localhost:8080/"
        },
        "id": "KGzvO1EObixF",
        "outputId": "a8c35659-06f4-4b53-9237-9d5f33956947"
      },
      "execution_count": null,
      "outputs": [
        {
          "output_type": "stream",
          "name": "stdout",
          "text": [
            "     total_bill   tip     sex smoker   day    time  size\n",
            "0         16.99  1.01  Female     No   Sun  Dinner     2\n",
            "1         10.34  1.66    Male     No   Sun  Dinner     3\n",
            "2         21.01  3.50    Male     No   Sun  Dinner     3\n",
            "3         23.68  3.31    Male     No   Sun  Dinner     2\n",
            "4         24.59  3.61  Female     No   Sun  Dinner     4\n",
            "..          ...   ...     ...    ...   ...     ...   ...\n",
            "235       10.07  1.25    Male     No   Sat  Dinner     2\n",
            "238       35.83  4.67  Female     No   Sat  Dinner     3\n",
            "239       29.03  5.92    Male     No   Sat  Dinner     3\n",
            "242       17.82  1.75    Male     No   Sat  Dinner     2\n",
            "243       18.78  3.00  Female     No  Thur  Dinner     2\n",
            "\n",
            "[151 rows x 7 columns]\n"
          ]
        }
      ]
    },
    {
      "cell_type": "markdown",
      "source": [
        "✅ Task for You:\n",
        "Try writing 4 simple filters:\n",
        "\n",
        "Show rows where size is greater than 3\n",
        "\n",
        "Show rows where day is 'Sun'\n",
        "\n",
        "Show rows where tip is more than 5 and sex is 'Male'\n",
        "\n",
        "Show rows where smoker is 'Yes' and time is 'Dinner'\n",
        "\n"
      ],
      "metadata": {
        "id": "zUWO-GqzdDRS"
      }
    },
    {
      "cell_type": "code",
      "source": [
        "print(df[df['size'] > 3])\n",
        "print('\\n')\n",
        "print(df[df['day'] == 'Sun'])"
      ],
      "metadata": {
        "colab": {
          "base_uri": "https://localhost:8080/"
        },
        "id": "nUZIMq_Zc_MC",
        "outputId": "15999e29-6239-4a6d-a8e7-3c66346742ae"
      },
      "execution_count": null,
      "outputs": [
        {
          "output_type": "stream",
          "name": "stdout",
          "text": [
            "     total_bill   tip     sex smoker   day    time  size\n",
            "4         24.59  3.61  Female     No   Sun  Dinner     4\n",
            "5         25.29  4.71    Male     No   Sun  Dinner     4\n",
            "7         26.88  3.12    Male     No   Sun  Dinner     4\n",
            "11        35.26  5.00  Female     No   Sun  Dinner     4\n",
            "13        18.43  3.00    Male     No   Sun  Dinner     4\n",
            "23        39.42  7.58    Male     No   Sat  Dinner     4\n",
            "25        17.81  2.34    Male     No   Sat  Dinner     4\n",
            "31        18.35  2.50    Male     No   Sat  Dinner     4\n",
            "33        20.69  2.45  Female     No   Sat  Dinner     4\n",
            "44        30.40  5.60    Male     No   Sun  Dinner     4\n",
            "47        32.40  6.00    Male     No   Sun  Dinner     4\n",
            "52        34.81  5.20  Female     No   Sun  Dinner     4\n",
            "54        25.56  4.34    Male     No   Sun  Dinner     4\n",
            "56        38.01  3.00    Male    Yes   Sat  Dinner     4\n",
            "59        48.27  6.73    Male     No   Sat  Dinner     4\n",
            "63        18.29  3.76    Male    Yes   Sat  Dinner     4\n",
            "77        27.20  4.00    Male     No  Thur   Lunch     4\n",
            "85        34.83  5.17  Female     No  Thur   Lunch     4\n",
            "95        40.17  4.73    Male    Yes   Fri  Dinner     4\n",
            "116       29.93  5.07    Male     No   Sun  Dinner     4\n",
            "119       24.08  2.92  Female     No  Thur   Lunch     4\n",
            "125       29.80  4.20  Female     No  Thur   Lunch     6\n",
            "141       34.30  6.70    Male     No  Thur   Lunch     6\n",
            "142       41.19  5.00    Male     No  Thur   Lunch     5\n",
            "143       27.05  5.00  Female     No  Thur   Lunch     6\n",
            "153       24.55  2.00    Male     No   Sun  Dinner     4\n",
            "154       19.77  2.00    Male     No   Sun  Dinner     4\n",
            "155       29.85  5.14  Female     No   Sun  Dinner     5\n",
            "156       48.17  5.00    Male     No   Sun  Dinner     6\n",
            "157       25.00  3.75  Female     No   Sun  Dinner     4\n",
            "159       16.49  2.00    Male     No   Sun  Dinner     4\n",
            "160       21.50  3.50    Male     No   Sun  Dinner     4\n",
            "167       31.71  4.50    Male     No   Sun  Dinner     4\n",
            "180       34.65  3.68    Male    Yes   Sun  Dinner     4\n",
            "183       23.17  6.50    Male    Yes   Sun  Dinner     4\n",
            "185       20.69  5.00    Male     No   Sun  Dinner     5\n",
            "187       30.46  2.00    Male    Yes   Sun  Dinner     5\n",
            "197       43.11  5.00  Female    Yes  Thur   Lunch     4\n",
            "204       20.53  4.00    Male    Yes  Thur   Lunch     4\n",
            "207       38.73  3.00    Male    Yes   Sat  Dinner     4\n",
            "211       25.89  5.16    Male    Yes   Sat  Dinner     4\n",
            "212       48.33  9.00    Male     No   Sat  Dinner     4\n",
            "216       28.15  3.00    Male    Yes   Sat  Dinner     5\n",
            "219       30.14  3.09  Female    Yes   Sat  Dinner     4\n",
            "227       20.45  3.00    Male     No   Sat  Dinner     4\n",
            "230       24.01  2.00    Male    Yes   Sat  Dinner     4\n",
            "\n",
            "\n",
            "     total_bill   tip     sex smoker  day    time  size\n",
            "0         16.99  1.01  Female     No  Sun  Dinner     2\n",
            "1         10.34  1.66    Male     No  Sun  Dinner     3\n",
            "2         21.01  3.50    Male     No  Sun  Dinner     3\n",
            "3         23.68  3.31    Male     No  Sun  Dinner     2\n",
            "4         24.59  3.61  Female     No  Sun  Dinner     4\n",
            "..          ...   ...     ...    ...  ...     ...   ...\n",
            "186       20.90  3.50  Female    Yes  Sun  Dinner     3\n",
            "187       30.46  2.00    Male    Yes  Sun  Dinner     5\n",
            "188       18.15  3.50  Female    Yes  Sun  Dinner     3\n",
            "189       23.10  4.00    Male    Yes  Sun  Dinner     3\n",
            "190       15.69  1.50    Male    Yes  Sun  Dinner     2\n",
            "\n",
            "[76 rows x 7 columns]\n"
          ]
        }
      ]
    },
    {
      "cell_type": "code",
      "source": [
        "#Show rows where tip is more than 5 and sex is 'Male'\n",
        "print(df[(df['tip'] > 5) & (df['sex'] == \"Male\")])"
      ],
      "metadata": {
        "colab": {
          "base_uri": "https://localhost:8080/"
        },
        "id": "WRY2CShUeVTh",
        "outputId": "0b857658-c2d2-4b01-e93a-1a084017f09a"
      },
      "execution_count": null,
      "outputs": [
        {
          "output_type": "stream",
          "name": "stdout",
          "text": [
            "     total_bill    tip   sex smoker   day    time  size\n",
            "23        39.42   7.58  Male     No   Sat  Dinner     4\n",
            "44        30.40   5.60  Male     No   Sun  Dinner     4\n",
            "47        32.40   6.00  Male     No   Sun  Dinner     4\n",
            "59        48.27   6.73  Male     No   Sat  Dinner     4\n",
            "88        24.71   5.85  Male     No  Thur   Lunch     2\n",
            "116       29.93   5.07  Male     No   Sun  Dinner     4\n",
            "141       34.30   6.70  Male     No  Thur   Lunch     6\n",
            "170       50.81  10.00  Male    Yes   Sat  Dinner     3\n",
            "172        7.25   5.15  Male    Yes   Sun  Dinner     2\n",
            "181       23.33   5.65  Male    Yes   Sun  Dinner     2\n",
            "183       23.17   6.50  Male    Yes   Sun  Dinner     4\n",
            "211       25.89   5.16  Male    Yes   Sat  Dinner     4\n",
            "212       48.33   9.00  Male     No   Sat  Dinner     4\n",
            "239       29.03   5.92  Male     No   Sat  Dinner     3\n"
          ]
        }
      ]
    },
    {
      "cell_type": "code",
      "source": [
        "#Show rows where smoker is 'Yes' and time is 'Dinner'\n",
        "print(df[(df['smoker'] == 'Yes') & (df['time'] == 'Dinner')])"
      ],
      "metadata": {
        "colab": {
          "base_uri": "https://localhost:8080/"
        },
        "id": "RQZDMOhge7gB",
        "outputId": "1333131d-e543-4b65-a758-14008a4a46c7"
      },
      "execution_count": null,
      "outputs": [
        {
          "output_type": "stream",
          "name": "stdout",
          "text": [
            "     total_bill   tip     sex smoker  day    time  size\n",
            "56        38.01  3.00    Male    Yes  Sat  Dinner     4\n",
            "58        11.24  1.76    Male    Yes  Sat  Dinner     2\n",
            "60        20.29  3.21    Male    Yes  Sat  Dinner     2\n",
            "61        13.81  2.00    Male    Yes  Sat  Dinner     2\n",
            "62        11.02  1.98    Male    Yes  Sat  Dinner     2\n",
            "..          ...   ...     ...    ...  ...     ...   ...\n",
            "234       15.53  3.00    Male    Yes  Sat  Dinner     2\n",
            "236       12.60  1.00    Male    Yes  Sat  Dinner     2\n",
            "237       32.83  1.17    Male    Yes  Sat  Dinner     2\n",
            "240       27.18  2.00  Female    Yes  Sat  Dinner     2\n",
            "241       22.67  2.00    Male    Yes  Sat  Dinner     2\n",
            "\n",
            "[70 rows x 7 columns]\n"
          ]
        }
      ]
    }
  ]
}