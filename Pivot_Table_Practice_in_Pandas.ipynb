{
  "nbformat": 4,
  "nbformat_minor": 0,
  "metadata": {
    "colab": {
      "provenance": [],
      "authorship_tag": "ABX9TyN1haDuGmRwi20+Q88viZaO",
      "include_colab_link": true
    },
    "kernelspec": {
      "name": "python3",
      "display_name": "Python 3"
    },
    "language_info": {
      "name": "python"
    }
  },
  "cells": [
    {
      "cell_type": "markdown",
      "metadata": {
        "id": "view-in-github",
        "colab_type": "text"
      },
      "source": [
        "<a href=\"https://colab.research.google.com/github/Madihajavaid12345/data-manipulation-project-using-pandas-/blob/main/Pivot_Table_Practice_in_Pandas.ipynb\" target=\"_parent\"><img src=\"https://colab.research.google.com/assets/colab-badge.svg\" alt=\"Open In Colab\"/></a>"
      ]
    },
    {
      "cell_type": "code",
      "execution_count": 15,
      "metadata": {
        "colab": {
          "base_uri": "https://localhost:8080/"
        },
        "id": "Gub1Bi7RhDv-",
        "outputId": "d6582567-4d88-4024-a17a-2efade3d8cb2"
      },
      "outputs": [
        {
          "output_type": "stream",
          "name": "stdout",
          "text": [
            "  Employee Product   Sales\n",
            "0      Ali  Laptop  120000\n",
            "1     Sara   Phone   80000\n",
            "2      Ali  Laptop   95000\n",
            "3     Sara  Tablet   60000\n",
            "4     Zara   Phone   70000\n",
            "5      Ali  Tablet   50000\n",
            "6     Zara  Laptop   90000\n"
          ]
        }
      ],
      "source": [
        "import pandas as pd\n",
        "Data = {\n",
        "  'Employee': ['Ali', 'Sara', 'Ali', 'Sara', 'Zara', 'Ali', 'Zara'],\n",
        "    'Product': ['Laptop', 'Phone', 'Laptop', 'Tablet', 'Phone', 'Tablet', 'Laptop'],\n",
        "    'Sales': [120000, 80000, 95000, 60000, 70000, 50000, 90000]\n",
        "}\n",
        "df = pd.DataFrame(Data)\n",
        "print(df)"
      ]
    },
    {
      "cell_type": "markdown",
      "source": [
        "create a pivot table to show"
      ],
      "metadata": {
        "id": "SQfSvDG1h245"
      }
    },
    {
      "cell_type": "code",
      "source": [
        "pivot = df.pivot_table( values='Sales', index='Employee', columns='Product', aggfunc='sum', fill_value=0)\n",
        "print(pivot)"
      ],
      "metadata": {
        "colab": {
          "base_uri": "https://localhost:8080/"
        },
        "id": "2e41hzwKh64Z",
        "outputId": "2c019927-d436-4328-959d-047596ba79eb"
      },
      "execution_count": 24,
      "outputs": [
        {
          "output_type": "stream",
          "name": "stdout",
          "text": [
            "Product   Laptop  Phone  Tablet\n",
            "Employee                       \n",
            "Ali       215000      0   50000\n",
            "Sara           0  80000   60000\n",
            "Zara       90000  70000       0\n"
          ]
        }
      ]
    },
    {
      "cell_type": "code",
      "source": [
        "import pandas as pd\n",
        "Data = {\n",
        "  'Employee': ['Ali', 'Sara', 'Ali', 'Sara', 'Zara', 'Ali', 'Zara'],\n",
        "    'Product': ['Laptop', 'Phone', 'Laptop', 'Tablet', 'Phone', 'Tablet', 'Laptop'],\n",
        "    'Sales': [120000, 80000, 95000, 60000, 70000, 50000, 90000]\n",
        "}\n",
        "df = pd.DataFrame(Data)\n",
        "pivot = df.pivot_table(values='Sales', index='Employee', columns='Product', aggfunc='sum', fill_value=0)\n",
        "print(pivot)\n"
      ],
      "metadata": {
        "colab": {
          "base_uri": "https://localhost:8080/"
        },
        "id": "57cNnZo-l0q0",
        "outputId": "f8be7dcf-2bbf-47c8-f0f7-0073b4899d30"
      },
      "execution_count": 26,
      "outputs": [
        {
          "output_type": "stream",
          "name": "stdout",
          "text": [
            "Product   Laptop  Phone  Tablet\n",
            "Employee                       \n",
            "Ali       215000      0   50000\n",
            "Sara           0  80000   60000\n",
            "Zara       90000  70000       0\n"
          ]
        }
      ]
    },
    {
      "cell_type": "code",
      "source": [
        "pivot.to_csv(\"pivot.csv\")\n",
        "from google.colab import files\n",
        "files.download(\"pivot.csv\")"
      ],
      "metadata": {
        "colab": {
          "base_uri": "https://localhost:8080/",
          "height": 17
        },
        "id": "HHqlf7mims_K",
        "outputId": "f4e5bab7-093f-4656-ab7b-55c275c6d42d"
      },
      "execution_count": 29,
      "outputs": [
        {
          "output_type": "display_data",
          "data": {
            "text/plain": [
              "<IPython.core.display.Javascript object>"
            ],
            "application/javascript": [
              "\n",
              "    async function download(id, filename, size) {\n",
              "      if (!google.colab.kernel.accessAllowed) {\n",
              "        return;\n",
              "      }\n",
              "      const div = document.createElement('div');\n",
              "      const label = document.createElement('label');\n",
              "      label.textContent = `Downloading \"${filename}\": `;\n",
              "      div.appendChild(label);\n",
              "      const progress = document.createElement('progress');\n",
              "      progress.max = size;\n",
              "      div.appendChild(progress);\n",
              "      document.body.appendChild(div);\n",
              "\n",
              "      const buffers = [];\n",
              "      let downloaded = 0;\n",
              "\n",
              "      const channel = await google.colab.kernel.comms.open(id);\n",
              "      // Send a message to notify the kernel that we're ready.\n",
              "      channel.send({})\n",
              "\n",
              "      for await (const message of channel.messages) {\n",
              "        // Send a message to notify the kernel that we're ready.\n",
              "        channel.send({})\n",
              "        if (message.buffers) {\n",
              "          for (const buffer of message.buffers) {\n",
              "            buffers.push(buffer);\n",
              "            downloaded += buffer.byteLength;\n",
              "            progress.value = downloaded;\n",
              "          }\n",
              "        }\n",
              "      }\n",
              "      const blob = new Blob(buffers, {type: 'application/binary'});\n",
              "      const a = document.createElement('a');\n",
              "      a.href = window.URL.createObjectURL(blob);\n",
              "      a.download = filename;\n",
              "      div.appendChild(a);\n",
              "      a.click();\n",
              "      div.remove();\n",
              "    }\n",
              "  "
            ]
          },
          "metadata": {}
        },
        {
          "output_type": "display_data",
          "data": {
            "text/plain": [
              "<IPython.core.display.Javascript object>"
            ],
            "application/javascript": [
              "download(\"download_d095d36f-be13-4005-89bf-28a0883c5eea\", \"pivot.csv\", 86)"
            ]
          },
          "metadata": {}
        }
      ]
    }
  ]
}